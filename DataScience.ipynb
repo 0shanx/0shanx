{
 "cells": [
  {
   "cell_type": "markdown",
   "metadata": {},
   "source": [
    "# **Marriage Trends in India: Love vs. Arranged** "
   ]
  },
  {
   "cell_type": "markdown",
   "metadata": {},
   "source": [
    "### **A Dataset of Marriages Analyzing Social, Economic, and Cultural Factors**"
   ]
  },
  {
   "cell_type": "markdown",
   "metadata": {},
   "source": [
    "-----------------------------------------------------------------------------------------------------------"
   ]
  },
  {
   "cell_type": "markdown",
   "metadata": {},
   "source": [
    "#### **Objective:**  To perform data preprocessing, cleaning, and exploratory data analysis (EDA) on the \"Marriage Trends in India\" dataset, and create visualizations to uncover insights into love vs. arranged marriages using Python libraries like Pandas, NumPy, and Matplotlib"
   ]
  }
 ],
 "metadata": {
  "language_info": {
   "name": "python"
  }
 },
 "nbformat": 4,
 "nbformat_minor": 2
}

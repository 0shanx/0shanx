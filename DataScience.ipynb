{
 "cells": [
  {
   "cell_type": "markdown",
   "metadata": {},
   "source": [
    "# **Marriage Trends in India: Love vs. Arranged** "
   ]
  },
  {
   "cell_type": "markdown",
   "metadata": {},
   "source": [
    "#### **A Dataset of Marriages Analyzing Social, Economic, and Cultural Factors**"
   ]
  },
  {
   "cell_type": "markdown",
   "metadata": {},
   "source": [
    "-----------------------------------------------------------------------------------------------------------"
   ]
  },
  {
   "cell_type": "markdown",
   "metadata": {},
   "source": [
    "##### **Objective:**  To perform data preprocessing, cleaning, and exploratory data analysis (EDA) on the \"Marriage Trends in India\" dataset, and create visualizations to uncover insights into love vs. arranged marriages using Python libraries like Pandas, NumPy, and Matplotlib"
   ]
  },
  {
   "cell_type": "markdown",
   "metadata": {},
   "source": [
    "-----------------------------------------------------------------------------------------------------------"
   ]
  },
  {
   "cell_type": "markdown",
   "metadata": {},
   "source": [
    "#### **Step 1: Import necessary libraries**"
   ]
  },
  {
   "cell_type": "code",
   "execution_count": 2,
   "metadata": {},
   "outputs": [],
   "source": [
    "import pandas as pd"
   ]
  },
  {
   "cell_type": "code",
   "execution_count": 3,
   "metadata": {},
   "outputs": [],
   "source": [
    "import numpy as np"
   ]
  },
  {
   "cell_type": "markdown",
   "metadata": {},
   "source": [
    "#### **Step 2: Load the dataset**"
   ]
  },
  {
   "cell_type": "code",
   "execution_count": 4,
   "metadata": {},
   "outputs": [],
   "source": [
    "df = pd.read_csv('https://raw.githubusercontent.com/0shanx/0shanx/refs/heads/main/marriage_data_india.csv')\n"
   ]
  },
  {
   "cell_type": "markdown",
   "metadata": {},
   "source": [
    "#####  Display the first 5 rows of the dataset to get a quick look at the data"
   ]
  },
  {
   "cell_type": "code",
   "execution_count": 5,
   "metadata": {},
   "outputs": [
    {
     "name": "stdout",
     "output_type": "stream",
     "text": [
      "   ID Marriage_Type  Age_at_Marriage  Gender Education_Level Caste_Match  \\\n",
      "0   1          Love               23    Male        Graduate   Different   \n",
      "1   2          Love               28  Female          School        Same   \n",
      "2   3      Arranged               39    Male    Postgraduate        Same   \n",
      "3   4      Arranged               26  Female          School   Different   \n",
      "4   5          Love               32  Female        Graduate        Same   \n",
      "\n",
      "  Religion Parental_Approval Urban_Rural Dowry_Exchanged Marital_Satisfaction  \\\n",
      "0    Hindu                No       Urban              No               Medium   \n",
      "1    Hindu               Yes       Rural             Yes                  Low   \n",
      "2   Muslim               Yes       Rural              No               Medium   \n",
      "3    Hindu               Yes       Urban             Yes                  Low   \n",
      "4    Hindu           Partial       Rural             Yes               Medium   \n",
      "\n",
      "  Divorce_Status  Children_Count Income_Level  Years_Since_Marriage  \\\n",
      "0            Yes               5       Middle                    34   \n",
      "1             No               3       Middle                    42   \n",
      "2             No               0         High                    25   \n",
      "3             No               0         High                    12   \n",
      "4             No               1       Middle                    41   \n",
      "\n",
      "  Spouse_Working Inter-Caste Inter-Religion  \n",
      "0             No          No             No  \n",
      "1             No          No            Yes  \n",
      "2             No          No             No  \n",
      "3             No         Yes             No  \n",
      "4             No          No            Yes  \n"
     ]
    }
   ],
   "source": [
    "print(df.head())"
   ]
  },
  {
   "cell_type": "markdown",
   "metadata": {},
   "source": [
    "#### **Step 3: Understand the dataset**"
   ]
  },
  {
   "cell_type": "markdown",
   "metadata": {},
   "source": [
    "##### Check the columns in the dataset"
   ]
  },
  {
   "cell_type": "code",
   "execution_count": 6,
   "metadata": {},
   "outputs": [
    {
     "name": "stdout",
     "output_type": "stream",
     "text": [
      "Index(['ID', 'Marriage_Type', 'Age_at_Marriage', 'Gender', 'Education_Level',\n",
      "       'Caste_Match', 'Religion', 'Parental_Approval', 'Urban_Rural',\n",
      "       'Dowry_Exchanged', 'Marital_Satisfaction', 'Divorce_Status',\n",
      "       'Children_Count', 'Income_Level', 'Years_Since_Marriage',\n",
      "       'Spouse_Working', 'Inter-Caste', 'Inter-Religion'],\n",
      "      dtype='object')\n"
     ]
    }
   ],
   "source": [
    "print(df.columns)"
   ]
  },
  {
   "cell_type": "markdown",
   "metadata": {},
   "source": [
    "##### Check the data types of each column"
   ]
  },
  {
   "cell_type": "code",
   "execution_count": 7,
   "metadata": {},
   "outputs": [
    {
     "name": "stdout",
     "output_type": "stream",
     "text": [
      "ID                       int64\n",
      "Marriage_Type           object\n",
      "Age_at_Marriage          int64\n",
      "Gender                  object\n",
      "Education_Level         object\n",
      "Caste_Match             object\n",
      "Religion                object\n",
      "Parental_Approval       object\n",
      "Urban_Rural             object\n",
      "Dowry_Exchanged         object\n",
      "Marital_Satisfaction    object\n",
      "Divorce_Status          object\n",
      "Children_Count           int64\n",
      "Income_Level            object\n",
      "Years_Since_Marriage     int64\n",
      "Spouse_Working          object\n",
      "Inter-Caste             object\n",
      "Inter-Religion          object\n",
      "dtype: object\n"
     ]
    }
   ],
   "source": [
    "print(df.dtypes)"
   ]
  },
  {
   "cell_type": "markdown",
   "metadata": {},
   "source": [
    "##### Check for missing values in each column"
   ]
  },
  {
   "cell_type": "code",
   "execution_count": 8,
   "metadata": {},
   "outputs": [
    {
     "name": "stdout",
     "output_type": "stream",
     "text": [
      "ID                      0\n",
      "Marriage_Type           0\n",
      "Age_at_Marriage         0\n",
      "Gender                  0\n",
      "Education_Level         0\n",
      "Caste_Match             0\n",
      "Religion                0\n",
      "Parental_Approval       0\n",
      "Urban_Rural             0\n",
      "Dowry_Exchanged         0\n",
      "Marital_Satisfaction    0\n",
      "Divorce_Status          0\n",
      "Children_Count          0\n",
      "Income_Level            0\n",
      "Years_Since_Marriage    0\n",
      "Spouse_Working          0\n",
      "Inter-Caste             0\n",
      "Inter-Religion          0\n",
      "dtype: int64\n"
     ]
    }
   ],
   "source": [
    "print(df.isnull().sum())"
   ]
  },
  {
   "cell_type": "markdown",
   "metadata": {},
   "source": [
    "##### Check the shape of the dataset (number of rows and columns)"
   ]
  },
  {
   "cell_type": "code",
   "execution_count": 9,
   "metadata": {},
   "outputs": [
    {
     "name": "stdout",
     "output_type": "stream",
     "text": [
      "(10000, 18)\n"
     ]
    }
   ],
   "source": [
    "print(df.shape)"
   ]
  },
  {
   "cell_type": "markdown",
   "metadata": {},
   "source": [
    "Display summary statistics for numerical columns"
   ]
  },
  {
   "cell_type": "code",
   "execution_count": 10,
   "metadata": {},
   "outputs": [
    {
     "name": "stdout",
     "output_type": "stream",
     "text": [
      "                ID  Age_at_Marriage  Children_Count  Years_Since_Marriage\n",
      "count  10000.00000     10000.000000    10000.000000          10000.000000\n",
      "mean    5000.50000        28.503800        2.508800             24.973800\n",
      "std     2886.89568         6.279564        1.695467             14.054838\n",
      "min        1.00000        18.000000        0.000000              1.000000\n",
      "25%     2500.75000        23.000000        1.000000             13.000000\n",
      "50%     5000.50000        29.000000        3.000000             25.000000\n",
      "75%     7500.25000        34.000000        4.000000             37.000000\n",
      "max    10000.00000        39.000000        5.000000             49.000000\n"
     ]
    }
   ],
   "source": [
    "print(df.describe())"
   ]
  },
  {
   "cell_type": "markdown",
   "metadata": {},
   "source": [
    "#### **Step 4: Handle missing values (if any)**"
   ]
  },
  {
   "cell_type": "markdown",
   "metadata": {},
   "source": [
    "##### **Option 1:** Drop rows with missing values (if the dataset is large enough)\n",
    "##### df = df.dropna() \n",
    "\n",
    "##### **Option 2:** Fill missing values with mean, median, or mode\n",
    "##### For numerical columns, fill missing values with the mean\n",
    "##### df['column_name'].fillna(df['column_name'].mean(), inplace=True)\n",
    "\n",
    "##### For categorical columns, fill missing values with the mode\n",
    "##### df['column_name'].fillna(df['column_name'].mode()[0], inplace=True)\n",
    "\n",
    "##### **As Our data is having no missing values so we skip this part**"
   ]
  },
  {
   "cell_type": "markdown",
   "metadata": {},
   "source": [
    "#### **Step 5: Remove duplicate rows (if any)**"
   ]
  },
  {
   "cell_type": "code",
   "execution_count": 11,
   "metadata": {},
   "outputs": [],
   "source": [
    "df = df.drop_duplicates()"
   ]
  },
  {
   "cell_type": "markdown",
   "metadata": {},
   "source": [
    "#### **Step 6: Data Cleaning & Transformation**"
   ]
  },
  {
   "cell_type": "markdown",
   "metadata": {},
   "source": [
    "##### Convert categorical variables into numerical form"
   ]
  },
  {
   "cell_type": "code",
   "execution_count": null,
   "metadata": {},
   "outputs": [],
   "source": [
    "from sklearn.preprocessing import LabelEncoder"
   ]
  },
  {
   "cell_type": "markdown",
   "metadata": {},
   "source": []
  }
 ],
 "metadata": {
  "kernelspec": {
   "display_name": "Python 3 (ipykernel)",
   "language": "python",
   "name": "python3"
  },
  "language_info": {
   "codemirror_mode": {
    "name": "ipython",
    "version": 3
   },
   "file_extension": ".py",
   "mimetype": "text/x-python",
   "name": "python",
   "nbconvert_exporter": "python",
   "pygments_lexer": "ipython3",
   "version": "3.12.1"
  }
 },
 "nbformat": 4,
 "nbformat_minor": 2
}

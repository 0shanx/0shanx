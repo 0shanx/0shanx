{
 "cells": [
  {
   "cell_type": "markdown",
   "metadata": {},
   "source": [
    "# **Marriage Trends in India : Arranged Vs Love** "
   ]
  },
  {
   "cell_type": "markdown",
   "metadata": {},
   "source": []
  },
  {
   "cell_type": "markdown",
   "metadata": {},
   "source": [
    "#### **A Dataset of Marriages Analyzing Social, Economic, and Cultural Factors**"
   ]
  },
  {
   "cell_type": "markdown",
   "metadata": {},
   "source": [
    "-----------------------------------------------------------------------------------------------------------"
   ]
  },
  {
   "cell_type": "markdown",
   "metadata": {},
   "source": [
    "##### **Objective:**  To perform data preprocessing, cleaning, and exploratory data analysis (EDA) on the dataset, and create visualizations to uncover insights into love vs. arranged marriages using Python libraries like Pandas, NumPy, and Matplotlib"
   ]
  },
  {
   "cell_type": "markdown",
   "metadata": {},
   "source": [
    "-----------------------------------------------------------------------------------------------------------"
   ]
  },
  {
   "cell_type": "markdown",
   "metadata": {},
   "source": [
    "#### **Step 1: Import necessary libraries**"
   ]
  },
  {
   "cell_type": "code",
   "execution_count": 1,
   "metadata": {},
   "outputs": [],
   "source": [
    "import pandas as pd"
   ]
  },
  {
   "cell_type": "code",
   "execution_count": 2,
   "metadata": {},
   "outputs": [],
   "source": [
    "import numpy as np"
   ]
  },
  {
   "cell_type": "markdown",
   "metadata": {},
   "source": [
    "#### **Step 2: Load the dataset**"
   ]
  },
  {
   "cell_type": "code",
   "execution_count": null,
   "metadata": {},
   "outputs": [],
   "source": [
    "df = pd.read_csv('https://raw.githubusercontent.com/0shanx/0shanx/refs/heads/main/marriage_data_india.csv')\n"
   ]
  },
  {
   "cell_type": "markdown",
   "metadata": {},
   "source": [
    "#####  Display the first 5 rows of the dataset to get a quick look at the data"
   ]
  },
  {
   "cell_type": "code",
   "execution_count": null,
   "metadata": {},
   "outputs": [
    {
     "name": "stdout",
     "output_type": "stream",
     "text": [
      "   ID Marriage_Type  Age_at_Marriage  Gender Education_Level Caste_Match  \\\n",
      "0   1          Love               23    Male        Graduate   Different   \n",
      "1   2          Love               28  Female          School        Same   \n",
      "2   3      Arranged               39    Male    Postgraduate        Same   \n",
      "3   4      Arranged               26  Female          School   Different   \n",
      "4   5          Love               32  Female        Graduate        Same   \n",
      "\n",
      "  Religion Parental_Approval Urban_Rural Dowry_Exchanged Marital_Satisfaction  \\\n",
      "0    Hindu                No       Urban              No               Medium   \n",
      "1    Hindu               Yes       Rural             Yes                  Low   \n",
      "2   Muslim               Yes       Rural              No               Medium   \n",
      "3    Hindu               Yes       Urban             Yes                  Low   \n",
      "4    Hindu           Partial       Rural             Yes               Medium   \n",
      "\n",
      "  Divorce_Status  Children_Count Income_Level  Years_Since_Marriage  \\\n",
      "0            Yes               5       Middle                    34   \n",
      "1             No               3       Middle                    42   \n",
      "2             No               0         High                    25   \n",
      "3             No               0         High                    12   \n",
      "4             No               1       Middle                    41   \n",
      "\n",
      "  Spouse_Working Inter-Caste Inter-Religion  \n",
      "0             No          No             No  \n",
      "1             No          No            Yes  \n",
      "2             No          No             No  \n",
      "3             No         Yes             No  \n",
      "4             No          No            Yes  \n"
     ]
    }
   ],
   "source": [
    "print(df.head(10))"
   ]
  },
  {
   "cell_type": "markdown",
   "metadata": {},
   "source": [
    "#### **Step 3: Understand the dataset**"
   ]
  },
  {
   "cell_type": "markdown",
   "metadata": {},
   "source": [
    "##### Check the columns in the dataset"
   ]
  },
  {
   "cell_type": "code",
   "execution_count": 5,
   "metadata": {},
   "outputs": [
    {
     "name": "stdout",
     "output_type": "stream",
     "text": [
      "Index(['ID', 'Marriage_Type', 'Age_at_Marriage', 'Gender', 'Education_Level',\n",
      "       'Caste_Match', 'Religion', 'Parental_Approval', 'Urban_Rural',\n",
      "       'Dowry_Exchanged', 'Marital_Satisfaction', 'Divorce_Status',\n",
      "       'Children_Count', 'Income_Level', 'Years_Since_Marriage',\n",
      "       'Spouse_Working', 'Inter-Caste', 'Inter-Religion'],\n",
      "      dtype='object')\n"
     ]
    }
   ],
   "source": [
    "print(df.columns)"
   ]
  },
  {
   "cell_type": "markdown",
   "metadata": {},
   "source": [
    "##### Check the data types of each column"
   ]
  },
  {
   "cell_type": "code",
   "execution_count": 6,
   "metadata": {},
   "outputs": [
    {
     "name": "stdout",
     "output_type": "stream",
     "text": [
      "ID                       int64\n",
      "Marriage_Type           object\n",
      "Age_at_Marriage          int64\n",
      "Gender                  object\n",
      "Education_Level         object\n",
      "Caste_Match             object\n",
      "Religion                object\n",
      "Parental_Approval       object\n",
      "Urban_Rural             object\n",
      "Dowry_Exchanged         object\n",
      "Marital_Satisfaction    object\n",
      "Divorce_Status          object\n",
      "Children_Count           int64\n",
      "Income_Level            object\n",
      "Years_Since_Marriage     int64\n",
      "Spouse_Working          object\n",
      "Inter-Caste             object\n",
      "Inter-Religion          object\n",
      "dtype: object\n"
     ]
    }
   ],
   "source": [
    "print(df.dtypes)"
   ]
  },
  {
   "cell_type": "markdown",
   "metadata": {},
   "source": [
    "##### Check for missing values in each column"
   ]
  },
  {
   "cell_type": "code",
   "execution_count": 7,
   "metadata": {},
   "outputs": [
    {
     "name": "stdout",
     "output_type": "stream",
     "text": [
      "ID                      0\n",
      "Marriage_Type           0\n",
      "Age_at_Marriage         0\n",
      "Gender                  0\n",
      "Education_Level         0\n",
      "Caste_Match             0\n",
      "Religion                0\n",
      "Parental_Approval       0\n",
      "Urban_Rural             0\n",
      "Dowry_Exchanged         0\n",
      "Marital_Satisfaction    0\n",
      "Divorce_Status          0\n",
      "Children_Count          0\n",
      "Income_Level            0\n",
      "Years_Since_Marriage    0\n",
      "Spouse_Working          0\n",
      "Inter-Caste             0\n",
      "Inter-Religion          0\n",
      "dtype: int64\n"
     ]
    }
   ],
   "source": [
    "print(df.isnull().sum())"
   ]
  },
  {
   "cell_type": "markdown",
   "metadata": {},
   "source": [
    "##### Check the shape of the dataset (number of rows and columns)"
   ]
  },
  {
   "cell_type": "code",
   "execution_count": 8,
   "metadata": {},
   "outputs": [
    {
     "name": "stdout",
     "output_type": "stream",
     "text": [
      "(10000, 18)\n"
     ]
    }
   ],
   "source": [
    "print(df.shape)"
   ]
  },
  {
   "cell_type": "markdown",
   "metadata": {},
   "source": [
    "Display summary statistics for numerical columns"
   ]
  },
  {
   "cell_type": "code",
   "execution_count": 9,
   "metadata": {},
   "outputs": [
    {
     "name": "stdout",
     "output_type": "stream",
     "text": [
      "                ID  Age_at_Marriage  Children_Count  Years_Since_Marriage\n",
      "count  10000.00000     10000.000000    10000.000000          10000.000000\n",
      "mean    5000.50000        28.503800        2.508800             24.973800\n",
      "std     2886.89568         6.279564        1.695467             14.054838\n",
      "min        1.00000        18.000000        0.000000              1.000000\n",
      "25%     2500.75000        23.000000        1.000000             13.000000\n",
      "50%     5000.50000        29.000000        3.000000             25.000000\n",
      "75%     7500.25000        34.000000        4.000000             37.000000\n",
      "max    10000.00000        39.000000        5.000000             49.000000\n"
     ]
    }
   ],
   "source": [
    "print(df.describe())"
   ]
  },
  {
   "cell_type": "markdown",
   "metadata": {},
   "source": [
    "#### **Step 4: Handle missing values (if any)**"
   ]
  },
  {
   "cell_type": "markdown",
   "metadata": {},
   "source": [
    "##### **Option 1:** Drop rows with missing values (if the dataset is large enough)\n",
    "##### df = df.dropna() \n",
    "\n",
    "##### **Option 2:** Fill missing values with mean, median, or mode\n",
    "##### **For numerical columns**, fill missing values with the mean\n",
    "##### >df['column_name'].fillna(df['column_name'].mean(), inplace=True)\n",
    "\n",
    "##### **For categorical columns**, fill missing values with the mode\n",
    "##### >df['column_name'].fillna(df['column_name'].mode()[0], inplace=True)\n",
    "\n",
    "##### **As Our data is having no missing values so we skip this part**"
   ]
  },
  {
   "cell_type": "markdown",
   "metadata": {},
   "source": [
    "#### **Step 5: Remove duplicate rows (if any)**"
   ]
  },
  {
   "cell_type": "code",
   "execution_count": 10,
   "metadata": {},
   "outputs": [],
   "source": [
    "df = df.drop_duplicates()"
   ]
  },
  {
   "cell_type": "markdown",
   "metadata": {},
   "source": [
    "#### **Step 6: Data Cleaning & Transformation**"
   ]
  },
  {
   "cell_type": "markdown",
   "metadata": {},
   "source": [
    "##### Convert categorical variables into numerical form"
   ]
  },
  {
   "cell_type": "code",
   "execution_count": 11,
   "metadata": {},
   "outputs": [],
   "source": [
    "from sklearn.preprocessing import LabelEncoder"
   ]
  },
  {
   "cell_type": "code",
   "execution_count": 12,
   "metadata": {},
   "outputs": [],
   "source": [
    "le = LabelEncoder()"
   ]
  },
  {
   "cell_type": "code",
   "execution_count": 13,
   "metadata": {},
   "outputs": [],
   "source": [
    "df['Marriage_Type'] = le.fit_transform(df['Marriage_Type'])"
   ]
  },
  {
   "cell_type": "markdown",
   "metadata": {},
   "source": [
    "##### Standardize/Normalize numerical features (if needed)"
   ]
  },
  {
   "cell_type": "code",
   "execution_count": 14,
   "metadata": {},
   "outputs": [],
   "source": [
    "from sklearn.preprocessing import StandardScaler"
   ]
  },
  {
   "cell_type": "code",
   "execution_count": 15,
   "metadata": {},
   "outputs": [],
   "source": [
    "scaler = StandardScaler()"
   ]
  },
  {
   "cell_type": "code",
   "execution_count": 16,
   "metadata": {},
   "outputs": [],
   "source": [
    "df['Age_at_Marriage'] = scaler.fit_transform(df[['Age_at_Marriage']])"
   ]
  },
  {
   "cell_type": "markdown",
   "metadata": {},
   "source": [
    "##### Handle outliers (if needed)"
   ]
  },
  {
   "cell_type": "code",
   "execution_count": 17,
   "metadata": {},
   "outputs": [],
   "source": [
    "Q1 = df['Age_at_Marriage'].quantile(0.25)"
   ]
  },
  {
   "cell_type": "code",
   "execution_count": 18,
   "metadata": {},
   "outputs": [],
   "source": [
    "Q3 = df['Age_at_Marriage'].quantile(0.75)"
   ]
  },
  {
   "cell_type": "code",
   "execution_count": 19,
   "metadata": {},
   "outputs": [],
   "source": [
    "IQR = Q3 - Q1"
   ]
  },
  {
   "cell_type": "code",
   "execution_count": 20,
   "metadata": {},
   "outputs": [],
   "source": [
    "df = df[~((df['Age_at_Marriage'] < (Q1 - 1.5 * IQR)) | (df['Age_at_Marriage'] > (Q3 + 1.5 * IQR)))]"
   ]
  },
  {
   "cell_type": "markdown",
   "metadata": {},
   "source": [
    "##### Rename inconsistent column names (if needed)"
   ]
  },
  {
   "cell_type": "code",
   "execution_count": 21,
   "metadata": {},
   "outputs": [],
   "source": [
    "df.rename(columns={'Marriage_Type': 'Type_Of_Marriage'}, inplace=True)"
   ]
  },
  {
   "cell_type": "markdown",
   "metadata": {},
   "source": [
    "#### **Step 7: Exploratory Data Analysis (EDA)**"
   ]
  },
  {
   "cell_type": "markdown",
   "metadata": {},
   "source": [
    "##### After Cleaning Analysis"
   ]
  },
  {
   "cell_type": "code",
   "execution_count": 22,
   "metadata": {},
   "outputs": [
    {
     "name": "stdout",
     "output_type": "stream",
     "text": [
      "ID                        int64\n",
      "Type_Of_Marriage          int64\n",
      "Age_at_Marriage         float64\n",
      "Gender                   object\n",
      "Education_Level          object\n",
      "Caste_Match              object\n",
      "Religion                 object\n",
      "Parental_Approval        object\n",
      "Urban_Rural              object\n",
      "Dowry_Exchanged          object\n",
      "Marital_Satisfaction     object\n",
      "Divorce_Status           object\n",
      "Children_Count            int64\n",
      "Income_Level             object\n",
      "Years_Since_Marriage      int64\n",
      "Spouse_Working           object\n",
      "Inter-Caste              object\n",
      "Inter-Religion           object\n",
      "dtype: object\n"
     ]
    }
   ],
   "source": [
    "print(df.dtypes)"
   ]
  },
  {
   "cell_type": "code",
   "execution_count": 23,
   "metadata": {},
   "outputs": [
    {
     "name": "stdout",
     "output_type": "stream",
     "text": [
      "                ID  Type_Of_Marriage  Age_at_Marriage  Children_Count  \\\n",
      "count  10000.00000      10000.000000     1.000000e+04    10000.000000   \n",
      "mean    5000.50000          0.397800     2.913225e-16        2.508800   \n",
      "std     2886.89568          0.489468     1.000050e+00        1.695467   \n",
      "min        1.00000          0.000000    -1.672779e+00        0.000000   \n",
      "25%     2500.75000          0.000000    -8.765059e-01        1.000000   \n",
      "50%     5000.50000          0.000000     7.902217e-02        3.000000   \n",
      "75%     7500.25000          1.000000     8.752956e-01        4.000000   \n",
      "max    10000.00000          1.000000     1.671569e+00        5.000000   \n",
      "\n",
      "       Years_Since_Marriage  \n",
      "count          10000.000000  \n",
      "mean              24.973800  \n",
      "std               14.054838  \n",
      "min                1.000000  \n",
      "25%               13.000000  \n",
      "50%               25.000000  \n",
      "75%               37.000000  \n",
      "max               49.000000  \n"
     ]
    }
   ],
   "source": [
    "print(df.describe())"
   ]
  },
  {
   "cell_type": "code",
   "execution_count": 35,
   "metadata": {},
   "outputs": [],
   "source": [
    "df_numeric = df.select_dtypes(include=['number'])"
   ]
  },
  {
   "cell_type": "code",
   "execution_count": 36,
   "metadata": {},
   "outputs": [
    {
     "data": {
      "text/html": [
       "<div>\n",
       "<style scoped>\n",
       "    .dataframe tbody tr th:only-of-type {\n",
       "        vertical-align: middle;\n",
       "    }\n",
       "\n",
       "    .dataframe tbody tr th {\n",
       "        vertical-align: top;\n",
       "    }\n",
       "\n",
       "    .dataframe thead th {\n",
       "        text-align: right;\n",
       "    }\n",
       "</style>\n",
       "<table border=\"1\" class=\"dataframe\">\n",
       "  <thead>\n",
       "    <tr style=\"text-align: right;\">\n",
       "      <th></th>\n",
       "      <th>ID</th>\n",
       "      <th>Type_Of_Marriage</th>\n",
       "      <th>Age_at_Marriage</th>\n",
       "      <th>Children_Count</th>\n",
       "      <th>Years_Since_Marriage</th>\n",
       "    </tr>\n",
       "  </thead>\n",
       "  <tbody>\n",
       "    <tr>\n",
       "      <th>ID</th>\n",
       "      <td>1.000000</td>\n",
       "      <td>-0.004168</td>\n",
       "      <td>-0.004289</td>\n",
       "      <td>-0.006075</td>\n",
       "      <td>-0.006063</td>\n",
       "    </tr>\n",
       "    <tr>\n",
       "      <th>Type_Of_Marriage</th>\n",
       "      <td>-0.004168</td>\n",
       "      <td>1.000000</td>\n",
       "      <td>0.005853</td>\n",
       "      <td>-0.016993</td>\n",
       "      <td>-0.021963</td>\n",
       "    </tr>\n",
       "    <tr>\n",
       "      <th>Age_at_Marriage</th>\n",
       "      <td>-0.004289</td>\n",
       "      <td>0.005853</td>\n",
       "      <td>1.000000</td>\n",
       "      <td>-0.013285</td>\n",
       "      <td>0.003573</td>\n",
       "    </tr>\n",
       "    <tr>\n",
       "      <th>Children_Count</th>\n",
       "      <td>-0.006075</td>\n",
       "      <td>-0.016993</td>\n",
       "      <td>-0.013285</td>\n",
       "      <td>1.000000</td>\n",
       "      <td>0.002335</td>\n",
       "    </tr>\n",
       "    <tr>\n",
       "      <th>Years_Since_Marriage</th>\n",
       "      <td>-0.006063</td>\n",
       "      <td>-0.021963</td>\n",
       "      <td>0.003573</td>\n",
       "      <td>0.002335</td>\n",
       "      <td>1.000000</td>\n",
       "    </tr>\n",
       "  </tbody>\n",
       "</table>\n",
       "</div>"
      ],
      "text/plain": [
       "                            ID  Type_Of_Marriage  Age_at_Marriage  \\\n",
       "ID                    1.000000         -0.004168        -0.004289   \n",
       "Type_Of_Marriage     -0.004168          1.000000         0.005853   \n",
       "Age_at_Marriage      -0.004289          0.005853         1.000000   \n",
       "Children_Count       -0.006075         -0.016993        -0.013285   \n",
       "Years_Since_Marriage -0.006063         -0.021963         0.003573   \n",
       "\n",
       "                      Children_Count  Years_Since_Marriage  \n",
       "ID                         -0.006075             -0.006063  \n",
       "Type_Of_Marriage           -0.016993             -0.021963  \n",
       "Age_at_Marriage            -0.013285              0.003573  \n",
       "Children_Count              1.000000              0.002335  \n",
       "Years_Since_Marriage        0.002335              1.000000  "
      ]
     },
     "execution_count": 36,
     "metadata": {},
     "output_type": "execute_result"
    }
   ],
   "source": [
    "df_numeric.corr()"
   ]
  },
  {
   "cell_type": "markdown",
   "metadata": {},
   "source": [
    "#### **Step 8: Data Visualization**"
   ]
  },
  {
   "cell_type": "markdown",
   "metadata": {},
   "source": [
    "##### Import visualization libraries"
   ]
  },
  {
   "cell_type": "code",
   "execution_count": 24,
   "metadata": {},
   "outputs": [],
   "source": [
    "import matplotlib.pyplot as plt"
   ]
  },
  {
   "cell_type": "code",
   "execution_count": 25,
   "metadata": {},
   "outputs": [],
   "source": [
    "import seaborn as sns"
   ]
  },
  {
   "cell_type": "markdown",
   "metadata": {},
   "source": [
    "#### **Histogram**"
   ]
  },
  {
   "cell_type": "code",
   "execution_count": 29,
   "metadata": {},
   "outputs": [
    {
     "data": {
      "image/png": "[encoded data removed]",
      "text/plain": [
       "<Figure size 640x480 with 1 Axes>"
      ]
     },
     "metadata": {},
     "output_type": "display_data"
    }
   ],
   "source": [
    "plt.hist(df['Children_Count'], bins=10)\n",
    "plt.title('Histogram of Children_Count')\n",
    "plt.xlabel('Number of Childrens')\n",
    "plt.ylabel('Frequency')\n",
    "plt.show()\n"
   ]
  },
  {
   "cell_type": "markdown",
   "metadata": {},
   "source": [
    "##### Box Plot (To detect outliers)"
   ]
  },
  {
   "cell_type": "code",
   "execution_count": 30,
   "metadata": {},
   "outputs": [
    {
     "data": {
      "image/png": "[encoded data removed]",
      "text/plain": [
       "<Figure size 640x480 with 1 Axes>"
      ]
     },
     "metadata": {},
     "output_type": "display_data"
    }
   ],
   "source": [
    "plt.boxplot(df['Children_Count'])\n",
    "plt.title('Box Plot of Children Count')\n",
    "plt.ylabel('Number of Childrens')\n",
    "plt.show()\n"
   ]
  },
  {
   "cell_type": "markdown",
   "metadata": {},
   "source": [
    "##### Scatter Plot (To find relationships between two numerical features)"
   ]
  },
  {
   "cell_type": "code",
   "execution_count": 31,
   "metadata": {},
   "outputs": [
    {
     "data": {
      "image/png": "[encoded data removed]",
      "text/plain": [
       "<Figure size 640x480 with 1 Axes>"
      ]
     },
     "metadata": {},
     "output_type": "display_data"
    }
   ],
   "source": [
    "plt.scatter(df['Years_Since_Marriage'], df['Children_Count'])\n",
    "plt.title('Scatter Plot: Years_Since_Marriage vs Children_Count')\n",
    "plt.xlabel('Years_Since_Marriage')\n",
    "plt.ylabel('Children_Count')\n",
    "plt.show()"
   ]
  },
  {
   "cell_type": "markdown",
   "metadata": {},
   "source": [
    "##### Bar Chart (For categorical data representation)"
   ]
  },
  {
   "cell_type": "code",
   "execution_count": 32,
   "metadata": {},
   "outputs": [
    {
     "data": {
      "image/png": "[encoded data removed]",
      "text/plain": [
       "<Figure size 640x480 with 1 Axes>"
      ]
     },
     "metadata": {},
     "output_type": "display_data"
    }
   ],
   "source": [
    "df['Type_Of_Marriage'].value_counts().plot(kind='bar')\n",
    "plt.title('Bar Chart of Type of Marriage')\n",
    "plt.xlabel('Type of Marriage')\n",
    "plt.ylabel('Count')\n",
    "plt.show()"
   ]
  },
  {
   "cell_type": "markdown",
   "metadata": {},
   "source": [
    "##### Heatmap (To visualize correlations)"
   ]
  },
  {
   "cell_type": "code",
   "execution_count": 37,
   "metadata": {},
   "outputs": [
    {
     "data": {
      "image/png": "[encoded data removed]",
      "text/plain": [
       "<Figure size 640x480 with 2 Axes>"
      ]
     },
     "metadata": {},
     "output_type": "display_data"
    }
   ],
   "source": [
    "sns.heatmap(df_numeric.corr(), annot=True, cmap='coolwarm')\n",
    "plt.title('Correlation Heatmap')\n",
    "plt.show()"
   ]
  }
 ],
 "metadata": {
  "kernelspec": {
   "display_name": "Python 3 (ipykernel)",
   "language": "python",
   "name": "python3"
  },
  "language_info": {
   "codemirror_mode": {
    "name": "ipython",
    "version": 3
   },
   "file_extension": ".py",
   "mimetype": "text/x-python",
   "name": "python",
   "nbconvert_exporter": "python",
   "pygments_lexer": "ipython3",
   "version": "3.12.1"
  }
 },
 "nbformat": 4,
 "nbformat_minor": 2
}

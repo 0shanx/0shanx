{
 "cells": [
  {
   "cell_type": "markdown",
   "metadata": {},
   "source": [
    "# **Marriage Trends in India: Love vs. Arranged** "
   ]
  },
  {
   "cell_type": "markdown",
   "metadata": {},
   "source": [
    "#### **A Dataset of Marriages Analyzing Social, Economic, and Cultural Factors**"
   ]
  },
  {
   "cell_type": "markdown",
   "metadata": {},
   "source": [
    "-----------------------------------------------------------------------------------------------------------"
   ]
  },
  {
   "cell_type": "markdown",
   "metadata": {},
   "source": [
    "##### **Objective:**  To perform data preprocessing, cleaning, and exploratory data analysis (EDA) on the \"Marriage Trends in India\" dataset, and create visualizations to uncover insights into love vs. arranged marriages using Python libraries like Pandas, NumPy, and Matplotlib"
   ]
  },
  {
   "cell_type": "markdown",
   "metadata": {},
   "source": [
    "-----------------------------------------------------------------------------------------------------------"
   ]
  },
  {
   "cell_type": "markdown",
   "metadata": {},
   "source": [
    "#### **Step 1: Import necessary libraries**"
   ]
  },
  {
   "cell_type": "code",
   "execution_count": 2,
   "metadata": {},
   "outputs": [],
   "source": [
    "import pandas as pd"
   ]
  },
  {
   "cell_type": "code",
   "execution_count": 3,
   "metadata": {},
   "outputs": [],
   "source": [
    "import numpy as np"
   ]
  },
  {
   "cell_type": "markdown",
   "metadata": {},
   "source": [
    "#### **Step 2: Load the dataset**"
   ]
  },
  {
   "cell_type": "code",
   "execution_count": 4,
   "metadata": {},
   "outputs": [],
   "source": [
    "df = pd.read_csv('https://raw.githubusercontent.com/0shanx/0shanx/refs/heads/main/marriage_data_india.csv')\n"
   ]
  },
  {
   "cell_type": "markdown",
   "metadata": {},
   "source": [
    "#####  Display the first 5 rows of the dataset to get a quick look at the data"
   ]
  },
  {
   "cell_type": "code",
   "execution_count": 5,
   "metadata": {},
   "outputs": [
    {
     "name": "stdout",
     "output_type": "stream",
     "text": [
      "   ID Marriage_Type  Age_at_Marriage  Gender Education_Level Caste_Match  \\\n",
      "0   1          Love               23    Male        Graduate   Different   \n",
      "1   2          Love               28  Female          School        Same   \n",
      "2   3      Arranged               39    Male    Postgraduate        Same   \n",
      "3   4      Arranged               26  Female          School   Different   \n",
      "4   5          Love               32  Female        Graduate        Same   \n",
      "\n",
      "  Religion Parental_Approval Urban_Rural Dowry_Exchanged Marital_Satisfaction  \\\n",
      "0    Hindu                No       Urban              No               Medium   \n",
      "1    Hindu               Yes       Rural             Yes                  Low   \n",
      "2   Muslim               Yes       Rural              No               Medium   \n",
      "3    Hindu               Yes       Urban             Yes                  Low   \n",
      "4    Hindu           Partial       Rural             Yes               Medium   \n",
      "\n",
      "  Divorce_Status  Children_Count Income_Level  Years_Since_Marriage  \\\n",
      "0            Yes               5       Middle                    34   \n",
      "1             No               3       Middle                    42   \n",
      "2             No               0         High                    25   \n",
      "3             No               0         High                    12   \n",
      "4             No               1       Middle                    41   \n",
      "\n",
      "  Spouse_Working Inter-Caste Inter-Religion  \n",
      "0             No          No             No  \n",
      "1             No          No            Yes  \n",
      "2             No          No             No  \n",
      "3             No         Yes             No  \n",
      "4             No          No            Yes  \n"
     ]
    }
   ],
   "source": [
    "print(df.head())"
   ]
  },
  {
   "cell_type": "markdown",
   "metadata": {},
   "source": [
    "#### **Step 3: Understand the dataset**"
   ]
  },
  {
   "cell_type": "markdown",
   "metadata": {},
   "source": [
    "##### Check the columns in the dataset"
   ]
  },
  {
   "cell_type": "code",
   "execution_count": 6,
   "metadata": {},
   "outputs": [
    {
     "name": "stdout",
     "output_type": "stream",
     "text": [
      "Index(['ID', 'Marriage_Type', 'Age_at_Marriage', 'Gender', 'Education_Level',\n",
      "       'Caste_Match', 'Religion', 'Parental_Approval', 'Urban_Rural',\n",
      "       'Dowry_Exchanged', 'Marital_Satisfaction', 'Divorce_Status',\n",
      "       'Children_Count', 'Income_Level', 'Years_Since_Marriage',\n",
      "       'Spouse_Working', 'Inter-Caste', 'Inter-Religion'],\n",
      "      dtype='object')\n"
     ]
    }
   ],
   "source": [
    "print(df.columns)"
   ]
  },
  {
   "cell_type": "code",
   "execution_count": null,
   "metadata": {},
   "outputs": [],
   "source": []
  }
 ],
 "metadata": {
  "kernelspec": {
   "display_name": "Python 3 (ipykernel)",
   "language": "python",
   "name": "python3"
  },
  "language_info": {
   "codemirror_mode": {
    "name": "ipython",
    "version": 3
   },
   "file_extension": ".py",
   "mimetype": "text/x-python",
   "name": "python",
   "nbconvert_exporter": "python",
   "pygments_lexer": "ipython3",
   "version": "3.12.1"
  }
 },
 "nbformat": 4,
 "nbformat_minor": 2
}
